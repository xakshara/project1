{
 "cells": [
  {
   "cell_type": "code",
   "execution_count": 1,
   "id": "61269a3f",
   "metadata": {},
   "outputs": [
    {
     "name": "stdout",
     "output_type": "stream",
     "text": [
      "Requirement already satisfied: matplotlib in /Users/aksharadesai/opt/anaconda3/lib/python3.9/site-packages (3.5.1)\n",
      "Requirement already satisfied: cycler>=0.10 in /Users/aksharadesai/opt/anaconda3/lib/python3.9/site-packages (from matplotlib) (0.11.0)\n",
      "Requirement already satisfied: packaging>=20.0 in /Users/aksharadesai/opt/anaconda3/lib/python3.9/site-packages (from matplotlib) (23.2)\n",
      "Requirement already satisfied: numpy>=1.17 in /Users/aksharadesai/opt/anaconda3/lib/python3.9/site-packages (from matplotlib) (1.21.5)\n",
      "Requirement already satisfied: pyparsing>=2.2.1 in /Users/aksharadesai/opt/anaconda3/lib/python3.9/site-packages (from matplotlib) (3.0.4)\n",
      "Requirement already satisfied: python-dateutil>=2.7 in /Users/aksharadesai/opt/anaconda3/lib/python3.9/site-packages (from matplotlib) (2.8.2)\n",
      "Requirement already satisfied: fonttools>=4.22.0 in /Users/aksharadesai/opt/anaconda3/lib/python3.9/site-packages (from matplotlib) (4.25.0)\n",
      "Requirement already satisfied: pillow>=6.2.0 in /Users/aksharadesai/opt/anaconda3/lib/python3.9/site-packages (from matplotlib) (9.0.1)\n",
      "Requirement already satisfied: kiwisolver>=1.0.1 in /Users/aksharadesai/opt/anaconda3/lib/python3.9/site-packages (from matplotlib) (1.3.2)\n",
      "Requirement already satisfied: six>=1.5 in /Users/aksharadesai/opt/anaconda3/lib/python3.9/site-packages (from python-dateutil>=2.7->matplotlib) (1.16.0)\n"
     ]
    }
   ],
   "source": [
    "!pip install matplotlib\n"
   ]
  },
  {
   "cell_type": "markdown",
   "id": "fc933a71",
   "metadata": {},
   "source": [
    "# NYC Air Quality Analysis  \n",
    "**ENGI 1006 — Project 1, Part 2**\n",
    "\n",
    "This notebook analyzes New York City pm2.5 pollution levels using the cleaned\n",
    "data and helper functions implemented in `project1.py`.\n",
    "\n",
    "We answer:\n",
    "1. Highest and lowest pm2.5 in ZIP 10027\n",
    "2. Worst UHF neighborhood in 2019\n",
    "3. Average pm2.5 in Manhattan in 2008 vs. 2019\n",
    "4. Additional insights:\n",
    "   a. Boroughs that improved most from 2008 to 2019  \n",
    "   b. Month with the highest average pm2.5 across NYC\n",
    "\n",
    "Source data: NYC Open Data Air Quality (2008–2020)\n"
   ]
  },
  {
   "cell_type": "code",
   "execution_count": 2,
   "id": "83434d3e-6661-4221-a22e-2fb6bd91b5f4",
   "metadata": {},
   "outputs": [
    {
     "name": "stdout",
     "output_type": "stream",
     "text": [
      "Data ready.\n",
      "Records: 1824\n",
      "Boroughs: 5 Zip codes: 184\n"
     ]
    }
   ],
   "source": [
    "from importlib import reload\n",
    "import project1\n",
    "reload(project1)\n",
    "\n",
    "from project1 import read_pollution, read_uhf\n",
    "from statistics import mean\n",
    "from collections import defaultdict\n",
    "\n",
    "by_uhf, by_date = read_pollution()\n",
    "zip_to_uhfs, borough_to_uhfs = read_uhf()\n",
    "\n",
    "# Date parsing fix: convert 2-digit year to 2000+ range\n",
    "def year_of(date_str: str) -> int:\n",
    "    parts = date_str.split(\"/\")\n",
    "    year = int(parts[2])\n",
    "    if year < 100:  # handle YY format\n",
    "        year += 2000\n",
    "    return year\n",
    "\n",
    "def fmt(m):\n",
    "    d, u, name, val = m\n",
    "    return f\"{d} UHF {u} {name} {val:.2f} mcg/m^3\"\n",
    "\n",
    "print(\"Data ready.\")\n",
    "print(\"Records:\", sum(len(v) for v in by_uhf.values()))\n",
    "print(\"Boroughs:\", len(borough_to_uhfs), \"Zip codes:\", len(zip_to_uhfs))\n"
   ]
  },
  {
   "cell_type": "markdown",
   "id": "c75065aa",
   "metadata": {},
   "source": [
    "### (a) Highest and Lowest pm2.5 in ZIP 10027\n",
    "We filter by ZIP → UHF mapping → measurements, then compute min and max.\n"
   ]
  },
  {
   "cell_type": "code",
   "execution_count": 3,
   "id": "01bead72-e893-4b96-a4ec-40592fdc8368",
   "metadata": {},
   "outputs": [
    {
     "name": "stdout",
     "output_type": "stream",
     "text": [
      "Highest: 12/1/08 UHF 302 Central Harlem - Morningside Heights 14.56 mcg/m^3\n",
      "Lowest: 6/1/20 UHF 302 Central Harlem - Morningside Heights 7.36 mcg/m^3\n"
     ]
    }
   ],
   "source": [
    "zip_code = \"10027\"\n",
    "# Get all measurements for ZIP 10027\n",
    "vals = [m for u in zip_to_uhfs.get(zip_code, []) for m in by_uhf.get(u, [])]\n",
    "\n",
    "if vals:\n",
    "    highest = max(vals, key=lambda x: x[3])\n",
    "    lowest = min(vals, key=lambda x: x[3])\n",
    "    print(\"Highest:\", fmt(highest))\n",
    "    print(\"Lowest:\", fmt(lowest))\n",
    "else:\n",
    "    print(\"No data for ZIP\", zip_code)\n"
   ]
  },
  {
   "cell_type": "markdown",
   "id": "7fa31f95",
   "metadata": {},
   "source": [
    "### (b) Worst UHF in 2019\n",
    "We scan all readings from 2019 and identify the maximum pm2.5.\n"
   ]
  },
  {
   "cell_type": "code",
   "execution_count": 4,
   "id": "8b7c6074-49c9-4fb9-95ce-5531b2bf2ac7",
   "metadata": {},
   "outputs": [
    {
     "name": "stdout",
     "output_type": "stream",
     "text": [
      "Worst UHF in 2019: 12/1/19 UHF 306 Chelsea - Clinton 11.38 mcg/m^3\n"
     ]
    }
   ],
   "source": [
    "all_data = [m for rows in by_uhf.values() for m in rows]\n",
    "# Filter measurements to 2019\n",
    "data_2019 = [m for m in all_data if year_of(m[0]) == 2019]\n",
    "\n",
    "if data_2019:\n",
    "    worst_2019 = max(data_2019, key=lambda x: x[3])\n",
    "    print(\"Worst UHF in 2019:\", fmt(worst_2019))\n",
    "else:\n",
    "    print(\"No 2019 readings in dataset\")\n"
   ]
  },
  {
   "cell_type": "code",
   "execution_count": 5,
   "id": "77f8fc46-1b67-4485-a80a-0e789a2633c3",
   "metadata": {},
   "outputs": [
    {
     "name": "stdout",
     "output_type": "stream",
     "text": [
      "Worst UHF in 2019 (peak): 12/1/19 UHF 306 Chelsea - Clinton 11.38 mcg/m^3\n"
     ]
    }
   ],
   "source": [
    "all_data = [m for rows in by_uhf.values() for m in rows]\n",
    "data_2019 = [m for m in all_data if year_of(m[0]) == 2019]\n",
    "\n",
    "worst_2019 = max(data_2019, key=lambda x: x[3])\n",
    "print(\"Worst UHF in 2019 (peak):\", fmt(worst_2019))\n"
   ]
  },
  {
   "cell_type": "markdown",
   "id": "f3acf619",
   "metadata": {},
   "source": [
    "### (c) Manhattan average pm2.5 in 2008 and 2019\n",
    "We compute mean values across all UHF zones mapped to Manhattan.\n"
   ]
  },
  {
   "cell_type": "code",
   "execution_count": 6,
   "id": "70a4830a-9eb5-429a-8879-2a87fe0cbf91",
   "metadata": {},
   "outputs": [
    {
     "name": "stdout",
     "output_type": "stream",
     "text": [
      "Manhattan 2008: 15.09 mcg/m^3\n",
      "Manhattan 2019: 8.99 mcg/m^3\n"
     ]
    }
   ],
   "source": [
    "# Compute average pm.25 for all UHFs in a borough for a given year.\n",
    "# Returns None if no data exists\n",
    "def borough_avg(bor, year):\n",
    "    uhfs = borough_to_uhfs.get(bor.title(), [])\n",
    "    vals = [m[3] for u in uhfs for m in by_uhf[u] if year_of(m[0]) == year]\n",
    "    return mean(vals) if vals else None\n",
    "\n",
    "avg_08 = borough_avg(\"Manhattan\", 2008)\n",
    "avg_19 = borough_avg(\"Manhattan\", 2019)\n",
    "\n",
    "print(\"Manhattan 2008:\", f\"{avg_08:.2f}\" if avg_08 else \"N/A\", \"mcg/m^3\")\n",
    "print(\"Manhattan 2019:\", f\"{avg_19:.2f}\" if avg_19 else \"N/A\", \"mcg/m^3\")\n"
   ]
  },
  {
   "cell_type": "markdown",
   "id": "d7560d10",
   "metadata": {},
   "source": [
    "### (d1) Which borough saw the largest improvement (2008 → 2019)?\n",
    "We compute the change in average pollution over time.\n",
    "Positive difference means cleaner air.\n"
   ]
  },
  {
   "cell_type": "code",
   "execution_count": 7,
   "id": "ee664c8c-77ec-4a72-8183-b64e751e102a",
   "metadata": {},
   "outputs": [
    {
     "name": "stdout",
     "output_type": "stream",
     "text": [
      "2008 → 2019 Borough Improvement:\n",
      "\n",
      "Bronx: 14.04 → 7.42 (−6.62)\n",
      "Manhattan: 15.09 → 8.99 (−6.11)\n",
      "Brooklyn: 13.09 → 8.04 (−5.05)\n",
      "Queens: 12.56 → 7.66 (−4.90)\n",
      "Statenisland: 11.93 → 7.19 (−4.74)\n"
     ]
    }
   ],
   "source": [
    "improvements = []\n",
    "for bor in borough_to_uhfs:\n",
    "    a08 = borough_avg(bor, 2008)\n",
    "    a19 = borough_avg(bor, 2019)\n",
    "    if a08 and a19:\n",
    "        improvements.append((bor, a08, a19, a08 - a19))\n",
    "\n",
    "improvements.sort(key=lambda x: x[3], reverse=True)\n",
    "\n",
    "print(\"2008 → 2019 Borough Improvement:\\n\")\n",
    "for bor, a08, a19, change in improvements:\n",
    "    print(f\"{bor}: {a08:.2f} → {a19:.2f} (−{abs(change):.2f})\")\n"
   ]
  },
  {
   "cell_type": "markdown",
   "id": "e8b8ad0b",
   "metadata": {},
   "source": [
    "### (d2) Which month has the highest average pm2.5?\n",
    "Some months show consistently higher pollution due to heating and weather patterns.\n"
   ]
  },
  {
   "cell_type": "code",
   "execution_count": 8,
   "id": "997d5d02",
   "metadata": {},
   "outputs": [
    {
     "name": "stdout",
     "output_type": "stream",
     "text": [
      "Month 5: 8.45 mcg/m^3\n",
      "Month 6: 9.86 mcg/m^3\n",
      "Month 12: 10.01 mcg/m^3\n",
      "\n",
      "Highest average month: 12 with 10.01 mcg/m^3\n"
     ]
    }
   ],
   "source": [
    "month_vals = defaultdict(list)\n",
    "for rows in by_uhf.values():\n",
    "    for d, _, _, val in rows:\n",
    "        month = int(d.split(\"/\")[0])\n",
    "        month_vals[month].append(val)\n",
    "\n",
    "month_avg = {m: mean(vals) for m, vals in month_vals.items()}\n",
    "\n",
    "for m in sorted(month_avg):\n",
    "    print(f\"Month {m}: {month_avg[m]:.2f} mcg/m^3\")\n",
    "\n",
    "best = max(month_avg.items(), key=lambda x: x[1])\n",
    "print(f\"\\nHighest average month: {best[0]} with {best[1]:.2f} mcg/m^3\")\n"
   ]
  },
  {
   "cell_type": "markdown",
   "id": "c9ef1146",
   "metadata": {},
   "source": [
    "## Summary\n",
    "\n",
    "Our analysis reveals:\n",
    "- Air pollution in Manhattan improved significantly from 2008 to 2019\n",
    "- The worst pollution spike in 2019 occurred in a specific UHF neighborhood indicating localized problems\n",
    "- Seasonal trends show pollution tends to peak in specific winter months\n",
    "- Most boroughs show clear long-term improvement thanks to emissions regulations\n",
    "\n",
    "NYC air remains a public health issue, and monitoring pm2.5 trends is essential for continued progress.\n"
   ]
  },
  {
   "cell_type": "markdown",
   "id": "2f157e08",
   "metadata": {},
   "source": [
    "## Part 3 — Visualization of Monthly Pollution in ZIP 10027\n",
    "\n",
    "The following plot shows the average monthly pm2.5 concentration in ZIP code 10027 across all available years of data.\n",
    "The code was generated using generative AI (ChatGPT), including the full prompt as instructed.\n"
   ]
  },
  {
   "cell_type": "code",
   "execution_count": 9,
   "id": "a094c18c",
   "metadata": {},
   "outputs": [
    {
     "data": {
      "image/png": "[encoded data removed]",
      "text/plain": [
       "<Figure size 720x360 with 1 Axes>"
      ]
     },
     "metadata": {
      "needs_background": "light"
     },
     "output_type": "display_data"
    }
   ],
   "source": [
    "# PROMPT USED :\n",
    "# \"Write matplotlib visualization code that shows average monthly pm2.5 values\n",
    "# for a single zip code (10027) using the data structures from my Part 1\n",
    "# NYC pollution project: `by_uhf` maps UHF id to a list of measurements\n",
    "# where each measurement has the structure (date_str, uhf_id, uhf_name, value),\n",
    "# `zip_to_uhfs` maps zip codes to UHF ids, and my helper function year_of(date_str)\n",
    "# converts the date to a correct year. First filter to only measurements linked\n",
    "# to ZIP 10027, group them by month, compute average pm2.5 per month, then plot\n",
    "# them using matplotlib with clear axis labels and a title.\"\n",
    "\n",
    "import matplotlib.pyplot as plt\n",
    "from statistics import mean\n",
    "from collections import defaultdict\n",
    "\n",
    "zip_code = \"10027\"\n",
    "vals = [m for u in zip_to_uhfs.get(zip_code, []) for m in by_uhf.get(u, [])]\n",
    "\n",
    "month_vals = defaultdict(list)\n",
    "for d, _, _, val in vals:\n",
    "    month = int(d.split(\"/\")[0])\n",
    "    month_vals[month].append(val)\n",
    "\n",
    "month_avg = {m: mean(v) for m, v in month_vals.items()}\n",
    "\n",
    "plt.figure(figsize=(10, 5))\n",
    "plt.plot(sorted(month_avg.keys()),\n",
    "         [month_avg[m] for m in sorted(month_avg.keys())],\n",
    "         marker=\"o\")\n",
    "\n",
    "\n",
    "plt.xticks(sorted(month_avg.keys()))  # Show only months that exist in dataset\n",
    "for m in sorted(month_avg.keys()):\n",
    "    plt.text(m, month_avg[m] + 0.05,\n",
    "             f\"{month_avg[m]:.2f}\",\n",
    "             ha='center', va='bottom', fontsize=9)\n",
    "\n",
    "plt.xlabel(\"Month\")\n",
    "plt.ylabel(\"Average pm2.5 (mcg/m^3)\")\n",
    "plt.title(f\"Average Monthly PM2.5 in ZIP {zip_code} (All Years)\")\n",
    "plt.grid(True)\n",
    "plt.show()\n",
    "\n"
   ]
  },
  {
   "cell_type": "code",
   "execution_count": 10,
   "id": "05a46653",
   "metadata": {},
   "outputs": [
    {
     "name": "stdout",
     "output_type": "stream",
     "text": [
      "Months present in dataset: [5, 6, 12]\n",
      "Count: 3\n",
      "Month 5: 76 measurements\n",
      "Month 6: 836 measurements\n",
      "Month 12: 912 measurements\n"
     ]
    }
   ],
   "source": [
    "# Verify which months appear in the dataset\n",
    "unique_months = sorted({int(m[0].split(\"/\")[0]) for rows in by_uhf.values() for m in rows})\n",
    "print(\"Months present in dataset:\", unique_months)\n",
    "print(\"Count:\", len(unique_months))\n",
    "\n",
    "from collections import Counter\n",
    "counter = Counter(int(m[0].split(\"/\")[0]) for rows in by_uhf.values() for m in rows)\n",
    "for month, count in sorted(counter.items()):\n",
    "    print(f\"Month {month}: {count} measurements\")\n"
   ]
  },
  {
   "cell_type": "markdown",
   "id": "5a5467a5",
   "metadata": {},
   "source": [
    "**Interpretation:**  \n",
    "The dataset only includes measurements recorded in May, June, and December across\n",
    "all available years, which is consistent with seasonal air quality monitoring in NYC.\n",
    "December shows the highest particulate pollution in ZIP 10027, likely due to winter\n",
    "heating emissions, while late spring and early summer months have noticeably cleaner air.\n"
   ]
  }
 ],
 "metadata": {
  "kernelspec": {
   "display_name": "base",
   "language": "python",
   "name": "python3"
  },
  "language_info": {
   "codemirror_mode": {
    "name": "ipython",
    "version": 3
   },
   "file_extension": ".py",
   "mimetype": "text/x-python",
   "name": "python",
   "nbconvert_exporter": "python",
   "pygments_lexer": "ipython3",
   "version": "3.9.12"
  }
 },
 "nbformat": 4,
 "nbformat_minor": 5
}
